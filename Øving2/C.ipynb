{
 "cells": [
  {
   "cell_type": "code",
   "execution_count": 127,
   "metadata": {},
   "outputs": [],
   "source": [
    "import tensorflow as tf\n",
    "import pandas as pd\n",
    "import numpy as np\n",
    "import matplotlib.pyplot as plt\n",
    "from mpl_toolkits.mplot3d import axes3d    \n",
    "import math\n",
    "%matplotlib widget"
   ]
  },
  {
   "cell_type": "code",
   "execution_count": 139,
   "metadata": {},
   "outputs": [],
   "source": [
    "epochs = 100_000\n",
    "hidden_nodes = 2\n",
    "\n",
    "x_values = np.array([[0.0, 0.0],\n",
    "                     [0.0, 1.0],\n",
    "                     [1.0, 0.0],\n",
    "                     [1.0,1.0]\n",
    "                    ])\n",
    "#y_values = np.array(tf.one_hot([1,0], 2))\n",
    "y_values = np.array([[0.0],\n",
    "                     [1.0],\n",
    "                     [1.0],\n",
    "                     [0.0]\n",
    "                    ])"
   ]
  },
  {
   "cell_type": "code",
   "execution_count": 140,
   "metadata": {},
   "outputs": [],
   "source": [
    "input_nodes = tf.placeholder(dtype = tf.float64, shape=[None,2], name=\"input_nodes\")\n",
    "output_nodes = tf.placeholder(dtype = tf.float64, shape = [None,1], name=\"output_nodes\")\n",
    "\n",
    "Weights_1 = tf.Variable(tf.random.uniform([2,2],-5,5, dtype=tf.float64), shape=[2, 2], name= \"Weight_1\")\n",
    "bias_1 = tf.Variable(tf.random.uniform([1,2],-5,5, dtype=tf.float64), shape=[1,2], name=\"bias_1\")\n",
    "\n",
    "Weights_2 = tf.Variable(tf.random.uniform([2,1],-5,5, dtype=tf.float64),dtype=tf.float64, shape=[2, 1],name= \"Weight_2\")\n",
    "bias_2 = tf.Variable(tf.random.uniform([1],-5,5, dtype=tf.float64), dtype=tf.float64, shape=[1], name=\"bias_2\")"
   ]
  },
  {
   "cell_type": "code",
   "execution_count": 141,
   "metadata": {},
   "outputs": [],
   "source": [
    "logits_1 = tf.sigmoid(tf.matmul(input_nodes, Weights_1)+bias_1)\n",
    "\n",
    "logits_2 = tf.matmul(logits_1,Weights_2)+bias_2"
   ]
  },
  {
   "cell_type": "code",
   "execution_count": 160,
   "metadata": {},
   "outputs": [
    {
     "name": "stdout",
     "output_type": "stream",
     "text": [
      "----WEIGHTS----\n",
      "[[ 13.36293826   9.616328  ]\n",
      " [-13.66965464  -9.23427777]]\n",
      "[[ 23.70784196]\n",
      " [-23.44509507]]\n",
      "----BIAS----\n",
      "[[-7.4019866   4.56089165]]\n",
      "[11.51753267]\n",
      "----LOSS----\n",
      "8.089994480542373e-06\n"
     ]
    }
   ],
   "source": [
    "loss = tf.losses.sigmoid_cross_entropy(output_nodes,logits_2)\n",
    "\n",
    "init = tf.global_variables_initializer();\n",
    "\n",
    "optimizer = tf.train.GradientDescentOptimizer(learning_rate = 10)\n",
    "\n",
    "train = optimizer.minimize(loss)\n",
    "\n",
    "with tf.Session() as sess:\n",
    "    sess.run(init)\n",
    "\n",
    "    for i in range(epochs):\n",
    "        rand_ind = np.random.randint(low = 0, high = len(x_values), size = 10)\n",
    "        feed = {input_nodes: x_values[rand_ind], output_nodes: y_values[rand_ind] }\n",
    "        \n",
    "        sess.run(train, feed_dict = feed)\n",
    "        \n",
    "  \n",
    "    model_W_1 = sess.run(Weights_1)\n",
    "    model_W_2 = sess.run(Weights_2)\n",
    "    \n",
    "    model_b_1 = sess.run(bias_1)\n",
    "    model_b_2 = sess.run(bias_2)\n",
    "    loss_value = loss.eval(feed_dict=feed)\n",
    "    \n",
    "print(\"----WEIGHTS----\")\n",
    "print(model_W_1)\n",
    "print(model_W_2)\n",
    "print(\"----BIAS----\")\n",
    "print(model_b_1)\n",
    "print(model_b_2)\n",
    "print(\"----LOSS----\")\n",
    "print(loss_value)"
   ]
  },
  {
   "cell_type": "code",
   "execution_count": null,
   "metadata": {},
   "outputs": [],
   "source": []
  },
  {
   "cell_type": "code",
   "execution_count": 136,
   "metadata": {},
   "outputs": [],
   "source": []
  },
  {
   "cell_type": "code",
   "execution_count": 137,
   "metadata": {},
   "outputs": [],
   "source": []
  },
  {
   "cell_type": "code",
   "execution_count": null,
   "metadata": {},
   "outputs": [],
   "source": []
  },
  {
   "cell_type": "code",
   "execution_count": null,
   "metadata": {},
   "outputs": [],
   "source": []
  },
  {
   "cell_type": "code",
   "execution_count": null,
   "metadata": {},
   "outputs": [],
   "source": []
  },
  {
   "cell_type": "code",
   "execution_count": null,
   "metadata": {},
   "outputs": [],
   "source": []
  },
  {
   "cell_type": "code",
   "execution_count": null,
   "metadata": {},
   "outputs": [],
   "source": []
  },
  {
   "cell_type": "code",
   "execution_count": 147,
   "metadata": {},
   "outputs": [],
   "source": []
  },
  {
   "cell_type": "code",
   "execution_count": 151,
   "metadata": {},
   "outputs": [],
   "source": []
  },
  {
   "cell_type": "code",
   "execution_count": null,
   "metadata": {},
   "outputs": [],
   "source": []
  },
  {
   "cell_type": "code",
   "execution_count": null,
   "metadata": {},
   "outputs": [],
   "source": []
  }
 ],
 "metadata": {
  "kernelspec": {
   "display_name": "Python 3",
   "language": "python",
   "name": "python3"
  },
  "language_info": {
   "codemirror_mode": {
    "name": "ipython",
    "version": 3
   },
   "file_extension": ".py",
   "mimetype": "text/x-python",
   "name": "python",
   "nbconvert_exporter": "python",
   "pygments_lexer": "ipython3",
   "version": "3.6.9"
  }
 },
 "nbformat": 4,
 "nbformat_minor": 2
}
