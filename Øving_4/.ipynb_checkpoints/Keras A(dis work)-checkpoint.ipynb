{
 "cells": [
  {
   "cell_type": "code",
   "execution_count": 1,
   "metadata": {},
   "outputs": [],
   "source": [
    "import tensorflow as tf\n",
    "import numpy as np\n",
    "import pandas as pd\n",
    "from tensorflow import keras"
   ]
  },
  {
   "cell_type": "code",
   "execution_count": 2,
   "metadata": {},
   "outputs": [],
   "source": [
    "x_data = \" hello world h\"\n",
    "y_data = \"hello world he\"\n",
    "\n",
    "int_char = dict((i, c) for (i,c) in enumerate(\"\".join(set(x_data))))\n",
    "dictonary = dict((c, i) for (i,c) in enumerate(\"\".join(set(x_data))))"
   ]
  },
  {
   "cell_type": "code",
   "execution_count": null,
   "metadata": {},
   "outputs": [],
   "source": []
  },
  {
   "cell_type": "code",
   "execution_count": 3,
   "metadata": {},
   "outputs": [],
   "source": [
    "x_train = [[list(keras.utils.to_categorical(list(dictonary[val] for val in x_data)))]]\n",
    "y_train = [[list(keras.utils.to_categorical(list(dictonary[val] for val in y_data)))]]\n",
    "(_,_,_,batch_size) = np.array(x_train).shape"
   ]
  },
  {
   "cell_type": "code",
   "execution_count": null,
   "metadata": {},
   "outputs": [],
   "source": []
  },
  {
   "cell_type": "code",
   "execution_count": 4,
   "metadata": {},
   "outputs": [],
   "source": [
    "units_in_LSTM = 128\n",
    "epochs = 500"
   ]
  },
  {
   "cell_type": "code",
   "execution_count": 5,
   "metadata": {},
   "outputs": [
    {
     "name": "stderr",
     "output_type": "stream",
     "text": [
      "WARNING: Logging before flag parsing goes to stderr.\n",
      "W0913 11:09:40.852142 4523791808 deprecation.py:506] From /Users/williamjacobsen/anaconda3/envs/tensorflow/lib/python3.6/site-packages/tensorflow/python/ops/init_ops.py:1251: calling VarianceScaling.__init__ (from tensorflow.python.ops.init_ops) with dtype is deprecated and will be removed in a future version.\n",
      "Instructions for updating:\n",
      "Call initializer instance with the dtype argument instead of passing it to the constructor\n"
     ]
    }
   ],
   "source": [
    "model = keras.Sequential([\n",
    "    keras.layers.LSTM(units_in_LSTM, input_shape=(None, batch_size), return_sequences=True),\n",
    "    keras.layers.Dense(batch_size, activation='softmax')\n",
    "])"
   ]
  },
  {
   "cell_type": "code",
   "execution_count": 6,
   "metadata": {},
   "outputs": [],
   "source": [
    "optimizer = tf.train.RMSPropOptimizer(learning_rate = 0.5)"
   ]
  },
  {
   "cell_type": "code",
   "execution_count": 7,
   "metadata": {},
   "outputs": [],
   "source": [
    "model.compile(loss=tf.keras.losses.categorical_crossentropy, optimizer=optimizer)"
   ]
  },
  {
   "cell_type": "code",
   "execution_count": 8,
   "metadata": {},
   "outputs": [],
   "source": [
    "def on_epoch_end(epoch, data):\n",
    "    if epoch % 10 == 9:\n",
    "        print(np.array(x_train).shape)\n",
    "        print(\"epoch\", epoch)\n",
    "        print(\"loss\", data['loss'])\n",
    "        \n",
    "        # Generate text from the initial text ' h'\n",
    "        text = ' h'\n",
    "        for i in range(50):\n",
    "            x = [[list(keras.utils.to_categorical(list(dictonary[val] for val in list(text)), batch_size))]]\n",
    "            y = model.predict(x)[0][-1]\n",
    "            text += int_char[y.argmax()]\n",
    "        print(text)\n"
   ]
  },
  {
   "cell_type": "code",
   "execution_count": 9,
   "metadata": {
    "scrolled": false
   },
   "outputs": [
    {
     "name": "stderr",
     "output_type": "stream",
     "text": [
      "W0913 11:09:41.178605 4523791808 deprecation.py:323] From /Users/williamjacobsen/anaconda3/envs/tensorflow/lib/python3.6/site-packages/tensorflow/python/ops/math_grad.py:1250: add_dispatch_support.<locals>.wrapper (from tensorflow.python.ops.array_ops) is deprecated and will be removed in a future version.\n",
      "Instructions for updating:\n",
      "Use tf.where in 2.0, which has the same broadcast rule as np.where\n",
      "W0913 11:09:41.633565 4523791808 deprecation.py:506] From /Users/williamjacobsen/anaconda3/envs/tensorflow/lib/python3.6/site-packages/tensorflow/python/training/rmsprop.py:119: calling Ones.__init__ (from tensorflow.python.ops.init_ops) with dtype is deprecated and will be removed in a future version.\n",
      "Instructions for updating:\n",
      "Call initializer instance with the dtype argument instead of passing it to the constructor\n"
     ]
    },
    {
     "name": "stdout",
     "output_type": "stream",
     "text": [
      "(1, 1, 96, 8)\n",
      "epoch 9\n",
      "loss 1.9217157363891602\n",
      " hllllllllllllllllllllllllllllllllllllllllllllllllll\n",
      "(1, 1, 96, 8)\n",
      "epoch 19\n",
      "loss 1.7890113592147827\n",
      " hllo lo lo lo llo lo lo llo lo lo llo lo lo llo lo \n",
      "(1, 1, 96, 8)\n",
      "epoch 29\n",
      "loss 1.333713173866272\n",
      " hllo orl lo wlo lo hllo o llo wlo hllo worl lo lo l\n",
      "(1, 1, 96, 8)\n",
      "epoch 39\n",
      "loss 1.0763441324234009\n",
      " helllowlllowlllowlllowlllowlllowlllowlllowlllowlllo\n",
      "(1, 1, 96, 8)\n",
      "epoch 49\n",
      "loss 0.2361493855714798\n",
      " hello world hello world hello world hello world hel\n",
      "(1, 1, 96, 8)\n",
      "epoch 59\n",
      "loss 0.02268255688250065\n",
      " hello world hello world hello world hello world hel\n",
      "(1, 1, 96, 8)\n",
      "epoch 69\n",
      "loss 0.0066887252032756805\n",
      " hello world hello world hello world hello world hel\n",
      "(1, 1, 96, 8)\n",
      "epoch 79\n",
      "loss 0.0024987307842820883\n",
      " hello world hello world hello world hello world hel\n",
      "(1, 1, 96, 8)\n",
      "epoch 89\n",
      "loss 0.0010511529399082065\n",
      " hello world hello world hello world hello world hel\n",
      "(1, 1, 96, 8)\n",
      "epoch 99\n",
      "loss 0.00047407179954461753\n",
      " hello world hello world hello world hello world hel\n",
      "(1, 1, 96, 8)\n",
      "epoch 109\n",
      "loss 0.0002236766304122284\n",
      " hello world hello world hello world hello world hel\n",
      "(1, 1, 96, 8)\n",
      "epoch 119\n",
      "loss 0.00010943602683255449\n",
      " hello world hello world hello world hello world hel\n",
      "(1, 1, 96, 8)\n",
      "epoch 129\n",
      "loss 5.571853762376122e-05\n",
      " hello world hello world hello world hello world hel\n",
      "(1, 1, 96, 8)\n",
      "epoch 139\n",
      "loss 2.939324804174248e-05\n",
      " hello world hello world hello world hello world hel\n",
      "(1, 1, 96, 8)\n",
      "epoch 149\n",
      "loss 1.6046118616941385e-05\n",
      " hello world hello world hello world hello world hel\n",
      "(1, 1, 96, 8)\n",
      "epoch 159\n",
      "loss 9.07670892047463e-06\n",
      " hello world hello world hello world hello world hel\n",
      "(1, 1, 96, 8)\n",
      "epoch 169\n",
      "loss 5.209427854424575e-06\n",
      " hello world hello world hello world hello world hel\n",
      "(1, 1, 96, 8)\n",
      "epoch 179\n",
      "loss 3.0324670206027804e-06\n",
      " hello world hello world hello world hello world hel\n",
      "(1, 1, 96, 8)\n",
      "epoch 189\n",
      "loss 1.778233126970008e-06\n",
      " hello world hello world hello world hello world hel\n",
      "(1, 1, 96, 8)\n",
      "epoch 199\n",
      "loss 1.0468164646226796e-06\n",
      " hello world hello world hello world hello world hel\n",
      "(1, 1, 96, 8)\n",
      "epoch 209\n",
      "loss 6.488250505753967e-07\n",
      " hello world hello world hello world hello world hel\n",
      "(1, 1, 96, 8)\n",
      "epoch 219\n",
      "loss 4.3648128666973207e-07\n",
      " hello world hello world hello world hello world hel\n",
      "(1, 1, 96, 8)\n",
      "epoch 229\n",
      "loss 3.1727120131108677e-07\n",
      " hello world hello world hello world hello world hel\n",
      "(1, 1, 96, 8)\n",
      "epoch 239\n",
      "loss 2.6201243485957093e-07\n",
      " hello world hello world hello world hello world hel\n",
      "(1, 1, 96, 8)\n",
      "epoch 249\n",
      "loss 2.2475937555554992e-07\n",
      " hello world hello world hello world hello world hel\n",
      "(1, 1, 96, 8)\n",
      "epoch 259\n",
      "loss 2.042701936488811e-07\n",
      " hello world hello world hello world hello world hel\n",
      "(1, 1, 96, 8)\n",
      "epoch 269\n",
      "loss 1.8874813179081684e-07\n",
      " hello world hello world hello world hello world hel\n",
      "(1, 1, 96, 8)\n",
      "epoch 279\n",
      "loss 1.7695134602035978e-07\n",
      " hello world hello world hello world hello world hel\n",
      "(1, 1, 96, 8)\n",
      "epoch 289\n",
      "loss 1.6950075121258124e-07\n",
      " hello world hello world hello world hello world hel\n",
      "(1, 1, 96, 8)\n",
      "epoch 299\n",
      "loss 1.6453368800739554e-07\n",
      " hello world hello world hello world hello world hel\n",
      "(1, 1, 96, 8)\n",
      "epoch 309\n",
      "loss 1.5646223516796454e-07\n",
      " hello world hello world hello world hello world hel\n",
      "(1, 1, 96, 8)\n",
      "epoch 319\n",
      "loss 1.5459956159702415e-07\n",
      " hello world hello world hello world hello world hel\n",
      "(1, 1, 96, 8)\n",
      "epoch 329\n",
      "loss 1.4901162614933128e-07\n",
      " hello world hello world hello world hello world hel\n",
      "(1, 1, 96, 8)\n",
      "epoch 339\n",
      "loss 1.4590722230423125e-07\n",
      " hello world hello world hello world hello world hel\n",
      "(1, 1, 96, 8)\n",
      "epoch 349\n",
      "loss 1.446654636083622e-07\n",
      " hello world hello world hello world hello world hel\n",
      "(1, 1, 96, 8)\n",
      "epoch 359\n",
      "loss 1.4280280424827652e-07\n",
      " hello world hello world hello world hello world hel\n",
      "(1, 1, 96, 8)\n",
      "epoch 369\n",
      "loss 1.4031927264568367e-07\n",
      " hello world hello world hello world hello world hel\n",
      "(1, 1, 96, 8)\n",
      "epoch 379\n",
      "loss 1.390775139498146e-07\n",
      " hello world hello world hello world hello world hel\n",
      "(1, 1, 96, 8)\n",
      "epoch 389\n",
      "loss 1.3783575525394554e-07\n",
      " hello world hello world hello world hello world hel\n"
     ]
    },
    {
     "ename": "KeyboardInterrupt",
     "evalue": "",
     "output_type": "error",
     "traceback": [
      "\u001b[0;31m---------------------------------------------------------------------------\u001b[0m",
      "\u001b[0;31mKeyboardInterrupt\u001b[0m                         Traceback (most recent call last)",
      "\u001b[0;32m<ipython-input-9-b205eb3aabe4>\u001b[0m in \u001b[0;36m<module>\u001b[0;34m\u001b[0m\n\u001b[0;32m----> 1\u001b[0;31m \u001b[0mmodel\u001b[0m\u001b[0;34m.\u001b[0m\u001b[0mfit\u001b[0m\u001b[0;34m(\u001b[0m\u001b[0mx_train\u001b[0m\u001b[0;34m,\u001b[0m \u001b[0my_train\u001b[0m\u001b[0;34m,\u001b[0m \u001b[0mepochs\u001b[0m\u001b[0;34m=\u001b[0m\u001b[0;36m500\u001b[0m\u001b[0;34m,\u001b[0m \u001b[0mbatch_size\u001b[0m\u001b[0;34m=\u001b[0m\u001b[0;36m1\u001b[0m\u001b[0;34m,\u001b[0m\u001b[0mverbose\u001b[0m \u001b[0;34m=\u001b[0m \u001b[0;32mFalse\u001b[0m\u001b[0;34m,\u001b[0m \u001b[0mcallbacks\u001b[0m\u001b[0;34m=\u001b[0m\u001b[0;34m[\u001b[0m\u001b[0mtf\u001b[0m\u001b[0;34m.\u001b[0m\u001b[0mkeras\u001b[0m\u001b[0;34m.\u001b[0m\u001b[0mcallbacks\u001b[0m\u001b[0;34m.\u001b[0m\u001b[0mLambdaCallback\u001b[0m\u001b[0;34m(\u001b[0m\u001b[0mon_epoch_end\u001b[0m\u001b[0;34m=\u001b[0m\u001b[0mon_epoch_end\u001b[0m\u001b[0;34m)\u001b[0m\u001b[0;34m]\u001b[0m\u001b[0;34m)\u001b[0m\u001b[0;34m\u001b[0m\u001b[0;34m\u001b[0m\u001b[0m\n\u001b[0m",
      "\u001b[0;32m~/anaconda3/envs/tensorflow/lib/python3.6/site-packages/tensorflow/python/keras/engine/training.py\u001b[0m in \u001b[0;36mfit\u001b[0;34m(self, x, y, batch_size, epochs, verbose, callbacks, validation_split, validation_data, shuffle, class_weight, sample_weight, initial_epoch, steps_per_epoch, validation_steps, validation_freq, max_queue_size, workers, use_multiprocessing, **kwargs)\u001b[0m\n\u001b[1;32m    778\u001b[0m           \u001b[0mvalidation_steps\u001b[0m\u001b[0;34m=\u001b[0m\u001b[0mvalidation_steps\u001b[0m\u001b[0;34m,\u001b[0m\u001b[0;34m\u001b[0m\u001b[0;34m\u001b[0m\u001b[0m\n\u001b[1;32m    779\u001b[0m           \u001b[0mvalidation_freq\u001b[0m\u001b[0;34m=\u001b[0m\u001b[0mvalidation_freq\u001b[0m\u001b[0;34m,\u001b[0m\u001b[0;34m\u001b[0m\u001b[0;34m\u001b[0m\u001b[0m\n\u001b[0;32m--> 780\u001b[0;31m           steps_name='steps_per_epoch')\n\u001b[0m\u001b[1;32m    781\u001b[0m \u001b[0;34m\u001b[0m\u001b[0m\n\u001b[1;32m    782\u001b[0m   def evaluate(self,\n",
      "\u001b[0;32m~/anaconda3/envs/tensorflow/lib/python3.6/site-packages/tensorflow/python/keras/engine/training_arrays.py\u001b[0m in \u001b[0;36mmodel_iteration\u001b[0;34m(model, inputs, targets, sample_weights, batch_size, epochs, verbose, callbacks, val_inputs, val_targets, val_sample_weights, shuffle, initial_epoch, steps_per_epoch, validation_steps, validation_freq, mode, validation_in_fit, prepared_feed_values_from_dataset, steps_name, **kwargs)\u001b[0m\n\u001b[1;32m    361\u001b[0m \u001b[0;34m\u001b[0m\u001b[0m\n\u001b[1;32m    362\u001b[0m         \u001b[0;31m# Get outputs.\u001b[0m\u001b[0;34m\u001b[0m\u001b[0;34m\u001b[0m\u001b[0;34m\u001b[0m\u001b[0m\n\u001b[0;32m--> 363\u001b[0;31m         \u001b[0mbatch_outs\u001b[0m \u001b[0;34m=\u001b[0m \u001b[0mf\u001b[0m\u001b[0;34m(\u001b[0m\u001b[0mins_batch\u001b[0m\u001b[0;34m)\u001b[0m\u001b[0;34m\u001b[0m\u001b[0;34m\u001b[0m\u001b[0m\n\u001b[0m\u001b[1;32m    364\u001b[0m         \u001b[0;32mif\u001b[0m \u001b[0;32mnot\u001b[0m \u001b[0misinstance\u001b[0m\u001b[0;34m(\u001b[0m\u001b[0mbatch_outs\u001b[0m\u001b[0;34m,\u001b[0m \u001b[0mlist\u001b[0m\u001b[0;34m)\u001b[0m\u001b[0;34m:\u001b[0m\u001b[0;34m\u001b[0m\u001b[0;34m\u001b[0m\u001b[0m\n\u001b[1;32m    365\u001b[0m           \u001b[0mbatch_outs\u001b[0m \u001b[0;34m=\u001b[0m \u001b[0;34m[\u001b[0m\u001b[0mbatch_outs\u001b[0m\u001b[0;34m]\u001b[0m\u001b[0;34m\u001b[0m\u001b[0;34m\u001b[0m\u001b[0m\n",
      "\u001b[0;32m~/anaconda3/envs/tensorflow/lib/python3.6/site-packages/tensorflow/python/keras/backend.py\u001b[0m in \u001b[0;36m__call__\u001b[0;34m(self, inputs)\u001b[0m\n\u001b[1;32m   3290\u001b[0m \u001b[0;34m\u001b[0m\u001b[0m\n\u001b[1;32m   3291\u001b[0m     fetched = self._callable_fn(*array_vals,\n\u001b[0;32m-> 3292\u001b[0;31m                                 run_metadata=self.run_metadata)\n\u001b[0m\u001b[1;32m   3293\u001b[0m     \u001b[0mself\u001b[0m\u001b[0;34m.\u001b[0m\u001b[0m_call_fetch_callbacks\u001b[0m\u001b[0;34m(\u001b[0m\u001b[0mfetched\u001b[0m\u001b[0;34m[\u001b[0m\u001b[0;34m-\u001b[0m\u001b[0mlen\u001b[0m\u001b[0;34m(\u001b[0m\u001b[0mself\u001b[0m\u001b[0;34m.\u001b[0m\u001b[0m_fetches\u001b[0m\u001b[0;34m)\u001b[0m\u001b[0;34m:\u001b[0m\u001b[0;34m]\u001b[0m\u001b[0;34m)\u001b[0m\u001b[0;34m\u001b[0m\u001b[0;34m\u001b[0m\u001b[0m\n\u001b[1;32m   3294\u001b[0m     output_structure = nest.pack_sequence_as(\n",
      "\u001b[0;32m~/anaconda3/envs/tensorflow/lib/python3.6/site-packages/tensorflow/python/client/session.py\u001b[0m in \u001b[0;36m__call__\u001b[0;34m(self, *args, **kwargs)\u001b[0m\n\u001b[1;32m   1456\u001b[0m         ret = tf_session.TF_SessionRunCallable(self._session._session,\n\u001b[1;32m   1457\u001b[0m                                                \u001b[0mself\u001b[0m\u001b[0;34m.\u001b[0m\u001b[0m_handle\u001b[0m\u001b[0;34m,\u001b[0m \u001b[0margs\u001b[0m\u001b[0;34m,\u001b[0m\u001b[0;34m\u001b[0m\u001b[0;34m\u001b[0m\u001b[0m\n\u001b[0;32m-> 1458\u001b[0;31m                                                run_metadata_ptr)\n\u001b[0m\u001b[1;32m   1459\u001b[0m         \u001b[0;32mif\u001b[0m \u001b[0mrun_metadata\u001b[0m\u001b[0;34m:\u001b[0m\u001b[0;34m\u001b[0m\u001b[0;34m\u001b[0m\u001b[0m\n\u001b[1;32m   1460\u001b[0m           \u001b[0mproto_data\u001b[0m \u001b[0;34m=\u001b[0m \u001b[0mtf_session\u001b[0m\u001b[0;34m.\u001b[0m\u001b[0mTF_GetBuffer\u001b[0m\u001b[0;34m(\u001b[0m\u001b[0mrun_metadata_ptr\u001b[0m\u001b[0;34m)\u001b[0m\u001b[0;34m\u001b[0m\u001b[0;34m\u001b[0m\u001b[0m\n",
      "\u001b[0;31mKeyboardInterrupt\u001b[0m: "
     ]
    }
   ],
   "source": [
    "model.fit(x_train, y_train, epochs=500, batch_size=1,verbose = False, callbacks=[tf.keras.callbacks.LambdaCallback(on_epoch_end=on_epoch_end)])"
   ]
  },
  {
   "cell_type": "code",
   "execution_count": null,
   "metadata": {},
   "outputs": [],
   "source": []
  },
  {
   "cell_type": "code",
   "execution_count": null,
   "metadata": {},
   "outputs": [],
   "source": []
  },
  {
   "cell_type": "code",
   "execution_count": null,
   "metadata": {},
   "outputs": [],
   "source": []
  }
 ],
 "metadata": {
  "kernelspec": {
   "display_name": "Python 3",
   "language": "python",
   "name": "python3"
  },
  "language_info": {
   "codemirror_mode": {
    "name": "ipython",
    "version": 3
   },
   "file_extension": ".py",
   "mimetype": "text/x-python",
   "name": "python",
   "nbconvert_exporter": "python",
   "pygments_lexer": "ipython3",
   "version": "3.6.9"
  }
 },
 "nbformat": 4,
 "nbformat_minor": 2
}
