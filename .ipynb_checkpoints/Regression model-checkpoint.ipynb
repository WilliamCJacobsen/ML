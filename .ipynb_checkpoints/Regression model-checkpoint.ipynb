{
 "cells": [
  {
   "cell_type": "code",
   "execution_count": 4,
   "metadata": {
    "collapsed": true
   },
   "outputs": [],
   "source": [
    "import tensorflow as tf\n",
    "import numpy as np\n",
    "import pandas as pd\n",
    "import matplotlib.pyplot as plt\n",
    "\n",
    "x_data = np.linspace(0.0, 10, 1000000)\n",
    "\n",
    "noise = np.random.randn(len(x_data))\n",
    "\n",
    "b = 5\n",
    "\n",
    "y_true = (0.5 * x_data) + 5 + noise\n",
    "\n",
    "\n",
    "x_df = pd.DataFrame(data=x_data, columns=['X Data'])\n",
    "\n",
    "\n",
    "y_df = pd.DataFrame(data=y_true, columns=['Y'])\n",
    "\n",
    "\n",
    "my_data = pd.concat([x_df, y_df], axis=1)\n",
    "\n",
    "\n",
    "batch_size = 10\n",
    "\n",
    "m = tf.Variable(0.5)\n",
    "\n",
    "b = tf.Variable(1.0)\n",
    "\n",
    "xph = tf.placeholder(tf.float32, [batch_size])\n",
    "\n",
    "yph = tf.placeholder(tf.float32, [batch_size])\n",
    "\n",
    "y_model = m*xph + b\n",
    "\n",
    "error = tf.reduce_sum(tf.square(yph-y_model))\n",
    "\n",
    "optimizer = tf.train.GradientDescentOptimizer(learning_rate=0.001)\n",
    "\n",
    "train = optimizer.minimize(error)\n",
    "\n",
    "init = tf.global_variables_initializer();\n",
    "\n",
    "\n",
    "with tf.Session() as sess:\n",
    "    sess.run(init)\n",
    "\n",
    "    batches = 1000\n",
    "\n",
    "    for i in range(batches):\n",
    "        rand_ind = np.random.randint(len(x_data), size=batch_size)\n",
    "\n",
    "        feed = {xph: x_data[rand_ind], yph:y_true[rand_ind]}\n",
    "        sess.run(train, feed_dict=feed)\n",
    "\n",
    "    model_m, model_b = sess.run([m, b])\n",
    "\n"
   ]
  },
  {
   "cell_type": "code",
   "execution_count": 5,
   "metadata": {},
   "outputs": [
    {
     "name": "stdout",
     "output_type": "stream",
     "text": [
      "0.533009\n",
      "5.02008\n"
     ]
    },
    {
     "data": {
      "image/png": "[encoded data removed]",
      "text/plain": [
       "<matplotlib.figure.Figure at 0x1114560f0>"
      ]
     },
     "metadata": {},
     "output_type": "display_data"
    }
   ],
   "source": [
    "print(model_m)\n",
    "\n",
    "print(model_b)\n",
    "\n",
    "y_hat = x_data*model_m + model_b\n",
    "\n",
    "my_data.sample(250).plot(kind='scatter', x='X Data', y=\"Y\")\n",
    "\n",
    "plt.plot(x_data, y_hat, 'r')\n",
    "plt.show()"
   ]
  },
  {
   "cell_type": "code",
   "execution_count": null,
   "metadata": {
    "collapsed": true
   },
   "outputs": [],
   "source": []
  },
  {
   "cell_type": "code",
   "execution_count": 6,
   "metadata": {},
   "outputs": [
    {
     "name": "stdout",
     "output_type": "stream",
     "text": [
      "INFO:tensorflow:Using default config.\n",
      "WARNING:tensorflow:Using temporary folder as model directory: /var/folders/rj/6zwt986d25zfxs3rksmpht2r0000gn/T/tmpg_1kuau7\n",
      "INFO:tensorflow:Using config: {'_save_checkpoints_secs': 600, '_save_summary_steps': 100, '_model_dir': '/var/folders/rj/6zwt986d25zfxs3rksmpht2r0000gn/T/tmpg_1kuau7', '_tf_random_seed': 1, '_keep_checkpoint_every_n_hours': 10000, '_log_step_count_steps': 100, '_session_config': None, '_keep_checkpoint_max': 5, '_save_checkpoints_steps': None}\n"
     ]
    }
   ],
   "source": [
    "feat_cols = [tf.feature_column.numeric_column('x', shape=[1])]\n",
    "\n",
    "estimator = tf.estimator.LinearRegressor(feature_columns=feat_cols)"
   ]
  },
  {
   "cell_type": "code",
   "execution_count": 7,
   "metadata": {
    "collapsed": true
   },
   "outputs": [],
   "source": []
  },
  {
   "cell_type": "code",
   "execution_count": null,
   "metadata": {
    "collapsed": true
   },
   "outputs": [],
   "source": []
  }
 ],
 "metadata": {
  "kernelspec": {
   "display_name": "Python 3",
   "language": "python",
   "name": "python3"
  },
  "language_info": {
   "codemirror_mode": {
    "name": "ipython",
    "version": 3
   },
   "file_extension": ".py",
   "mimetype": "text/x-python",
   "name": "python",
   "nbconvert_exporter": "python",
   "pygments_lexer": "ipython3",
   "version": "3.5.4"
  }
 },
 "nbformat": 4,
 "nbformat_minor": 2
}
