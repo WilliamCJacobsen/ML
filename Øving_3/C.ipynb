{
 "cells": [
  {
   "cell_type": "code",
   "execution_count": 1,
   "metadata": {},
   "outputs": [
    {
     "name": "stderr",
     "output_type": "stream",
     "text": [
      "Using TensorFlow backend.\n"
     ]
    }
   ],
   "source": [
    "import tensorflow as tf\n",
    "import numpy as np\n",
    "from tensorflow.examples.tutorials.mnist import input_data\n",
    "import keras \n",
    "from keras.models import Sequential\n",
    "from keras.layers import Dense, Conv2D, Flatten,MaxPooling2D, Flatten,Dropout"
   ]
  },
  {
   "cell_type": "code",
   "execution_count": 2,
   "metadata": {},
   "outputs": [
    {
     "name": "stderr",
     "output_type": "stream",
     "text": [
      "WARNING: Logging before flag parsing goes to stderr.\n",
      "W0905 11:32:33.913382 12400 deprecation.py:323] From <ipython-input-2-1a516c502833>:1: read_data_sets (from tensorflow.contrib.learn.python.learn.datasets.mnist) is deprecated and will be removed in a future version.\n",
      "Instructions for updating:\n",
      "Please use alternatives such as official/mnist/dataset.py from tensorflow/models.\n",
      "W0905 11:32:33.914383 12400 deprecation.py:323] From C:\\Users\\William\\.conda\\envs\\tensorflow2\\lib\\site-packages\\tensorflow\\contrib\\learn\\python\\learn\\datasets\\mnist.py:260: maybe_download (from tensorflow.contrib.learn.python.learn.datasets.base) is deprecated and will be removed in a future version.\n",
      "Instructions for updating:\n",
      "Please write your own downloading logic.\n",
      "W0905 11:32:33.918383 12400 deprecation.py:323] From C:\\Users\\William\\.conda\\envs\\tensorflow2\\lib\\site-packages\\tensorflow\\contrib\\learn\\python\\learn\\datasets\\mnist.py:262: extract_images (from tensorflow.contrib.learn.python.learn.datasets.mnist) is deprecated and will be removed in a future version.\n",
      "Instructions for updating:\n",
      "Please use tf.data to implement this functionality.\n"
     ]
    },
    {
     "name": "stdout",
     "output_type": "stream",
     "text": [
      "Extracting MNIST_data/train-images-idx3-ubyte.gz\n"
     ]
    },
    {
     "name": "stderr",
     "output_type": "stream",
     "text": [
      "W0905 11:32:34.259155 12400 deprecation.py:323] From C:\\Users\\William\\.conda\\envs\\tensorflow2\\lib\\site-packages\\tensorflow\\contrib\\learn\\python\\learn\\datasets\\mnist.py:267: extract_labels (from tensorflow.contrib.learn.python.learn.datasets.mnist) is deprecated and will be removed in a future version.\n",
      "Instructions for updating:\n",
      "Please use tf.data to implement this functionality.\n",
      "W0905 11:32:34.270163 12400 deprecation.py:323] From C:\\Users\\William\\.conda\\envs\\tensorflow2\\lib\\site-packages\\tensorflow\\contrib\\learn\\python\\learn\\datasets\\mnist.py:110: dense_to_one_hot (from tensorflow.contrib.learn.python.learn.datasets.mnist) is deprecated and will be removed in a future version.\n",
      "Instructions for updating:\n",
      "Please use tf.one_hot on tensors.\n",
      "W0905 11:32:34.352159 12400 deprecation.py:323] From C:\\Users\\William\\.conda\\envs\\tensorflow2\\lib\\site-packages\\tensorflow\\contrib\\learn\\python\\learn\\datasets\\mnist.py:290: DataSet.__init__ (from tensorflow.contrib.learn.python.learn.datasets.mnist) is deprecated and will be removed in a future version.\n",
      "Instructions for updating:\n",
      "Please use alternatives such as official/mnist/dataset.py from tensorflow/models.\n"
     ]
    },
    {
     "name": "stdout",
     "output_type": "stream",
     "text": [
      "Extracting MNIST_data/train-labels-idx1-ubyte.gz\n",
      "Extracting MNIST_data/t10k-images-idx3-ubyte.gz\n",
      "Extracting MNIST_data/t10k-labels-idx1-ubyte.gz\n"
     ]
    }
   ],
   "source": [
    "mnist = input_data.read_data_sets(\"MNIST_data/\", one_hot = True)"
   ]
  },
  {
   "cell_type": "code",
   "execution_count": 3,
   "metadata": {},
   "outputs": [],
   "source": [
    "epochs = 1000\n",
    "batches = 1000"
   ]
  },
  {
   "cell_type": "code",
   "execution_count": 9,
   "metadata": {},
   "outputs": [],
   "source": [
    "tf.reset_default_graph()\n",
    "\n",
    "X = tf.placeholder(tf.float32, shape=[None, 28, 28, 1], name = \"X\")\n",
    "Y = tf.placeholder(tf.float32, shape=[None, 10], name = \"Y\")\n",
    "\n",
    "conv1 = tf.layers.conv2d(X, filters=32, kernel_size=[5, 5], strides=[1, 1], activation=tf.nn.relu, name = \"conv1\")\n",
    "pool1 = tf.layers.max_pooling2d(conv1, pool_size=[2, 2], strides=[2, 2], padding='same', name = \"pool1\")\n",
    "\n",
    "conv2 = tf.layers.conv2d(pool1, filters=64, kernel_size=[5, 5], strides=[1, 1],activation=tf.nn.relu, padding='same', name = \"conv2\")\n",
    "pool2 = tf.layers.max_pooling2d(conv2, pool_size=[2, 2], strides=[2, 2], padding='same', name = \"pool2\")\n",
    "    \n",
    "# Logits\n",
    "logits_1 = tf.layers.dropout(tf.layers.dense(tf.layers.flatten(pool2), units=1024, activation= tf.nn.relu))\n",
    "logits_2 = tf.layers.dense(logits_1, units=10)\n",
    "\n",
    "# Predictor\n",
    "f = tf.nn.softmax(logits_2)\n",
    "\n",
    "# Cross Entropy loss\n",
    "loss = tf.reduce_mean(tf.losses.softmax_cross_entropy(Y, logits_2))\n",
    "trainer = tf.train.AdamOptimizer(learning_rate = 0.00000001).minimize(loss)\n",
    "\n",
    "accuracy = tf.reduce_mean(tf.cast(tf.equal(tf.argmax(f, 1), tf.argmax(Y, 1)), tf.float32))\n",
    "\n",
    "saver = tf.train.Saver()\n",
    "init = tf.global_variables_initializer()\n",
    "\n",
    "\n"
   ]
  },
  {
   "cell_type": "code",
   "execution_count": null,
   "metadata": {},
   "outputs": [],
   "source": []
  },
  {
   "cell_type": "code",
   "execution_count": 11,
   "metadata": {},
   "outputs": [
    {
     "name": "stdout",
     "output_type": "stream",
     "text": [
      "acc: 0.9902\n"
     ]
    }
   ],
   "source": [
    "with tf.Session() as sess:\n",
    "    sess.run(init)\n",
    "    saver.restore(sess,\"Models/MNIST_numbers_3.ckpt\")\n",
    "    for i in range(100):\n",
    "        \n",
    "        data, label = mnist.train.next_batch(batches)\n",
    "        data = data.reshape(batches, 28, 28, 1)\n",
    "        \n",
    "        feed = {X: data, Y: label}\n",
    "        sess.run(trainer, feed_dict = feed)\n",
    "            \n",
    "    saver.save(sess,\"Models/MNIST_numbers_3.ckpt\")\n",
    "    \n",
    "    x_train = np.reshape(mnist.test.images, (-1, 28, 28, 1))  # tf.layers.conv2d takes 4D input\n",
    "    \n",
    "    acc = sess.run(accuracy,feed_dict={X: x_train, Y: mnist.test.labels})\n",
    "    \n",
    "    print(\"acc: \"+ str(acc))\n",
    "    sess.close()"
   ]
  },
  {
   "cell_type": "code",
   "execution_count": null,
   "metadata": {},
   "outputs": [],
   "source": []
  }
 ],
 "metadata": {
  "kernelspec": {
   "display_name": "Python 3",
   "language": "python",
   "name": "python3"
  },
  "language_info": {
   "codemirror_mode": {
    "name": "ipython",
    "version": 3
   },
   "file_extension": ".py",
   "mimetype": "text/x-python",
   "name": "python",
   "nbconvert_exporter": "python",
   "pygments_lexer": "ipython3",
   "version": "3.6.9"
  }
 },
 "nbformat": 4,
 "nbformat_minor": 2
}
