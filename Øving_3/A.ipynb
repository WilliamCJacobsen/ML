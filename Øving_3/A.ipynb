{
 "cells": [
  {
   "cell_type": "code",
   "execution_count": 12,
   "metadata": {},
   "outputs": [],
   "source": [
    "import tensorflow as tf\n",
    "import numpy as np\n",
    "from tensorflow.examples.tutorials.mnist import input_data"
   ]
  },
  {
   "cell_type": "code",
   "execution_count": 13,
   "metadata": {},
   "outputs": [
    {
     "name": "stdout",
     "output_type": "stream",
     "text": [
      "Extracting MNIST_data/train-images-idx3-ubyte.gz\n",
      "Extracting MNIST_data/train-labels-idx1-ubyte.gz\n",
      "Extracting MNIST_data/t10k-images-idx3-ubyte.gz\n",
      "Extracting MNIST_data/t10k-labels-idx1-ubyte.gz\n"
     ]
    }
   ],
   "source": [
    "mnist = input_data.read_data_sets(\"MNIST_data/\", one_hot = True)"
   ]
  },
  {
   "cell_type": "code",
   "execution_count": 36,
   "metadata": {},
   "outputs": [],
   "source": [
    "epochs = 20\n",
    "batches = 600"
   ]
  },
  {
   "cell_type": "code",
   "execution_count": 37,
   "metadata": {},
   "outputs": [],
   "source": [
    "tf.reset_default_graph()\n",
    "\n",
    "X = tf.placeholder(tf.float32, shape=[None, 28, 28, 1], name = \"X\")\n",
    "Y = tf.placeholder(tf.float32, shape=[None, 10], name = \"Y\")\n",
    "\n",
    "conv1 = tf.layers.conv2d(X, filters=32, kernel_size=[5, 5], strides=[1, 1], padding='same', name = \"conv1\")\n",
    "pool1 = tf.layers.max_pooling2d(conv1, pool_size=[2, 2], strides=[2, 2], padding='same', name = \"pool1\")\n",
    "\n",
    "conv2 = tf.layers.conv2d(pool1, filters=64, kernel_size=[5, 5], strides=[1, 1], padding='same', name = \"conv2\")\n",
    "pool2 = tf.layers.max_pooling2d(conv2, pool_size=[2, 2], strides=[2, 2], padding='same', name = \"pool2\")\n",
    "    \n",
    "# Logits\n",
    "logits = tf.layers.dense(tf.layers.flatten(pool2), units=10)\n",
    "\n",
    "# Predictor\n",
    "f = tf.nn.softmax(logits)\n",
    "\n",
    "# Cross Entropy loss\n",
    "loss = tf.losses.softmax_cross_entropy(Y, logits)\n",
    "trainer = tf.train.AdamOptimizer().minimize(loss)\n",
    "accuracy = tf.reduce_mean(tf.cast(tf.equal(tf.argmax(f, 1), tf.argmax(Y, 1)), tf.float32))\n",
    "\n",
    "saver = tf.train.Saver()\n",
    "init = tf.global_variables_initializer()\n"
   ]
  },
  {
   "cell_type": "code",
   "execution_count": 39,
   "metadata": {},
   "outputs": [
    {
     "name": "stdout",
     "output_type": "stream",
     "text": [
      "acc: 0.8636\n"
     ]
    }
   ],
   "source": [
    "with tf.Session() as sess:\n",
    "    sess.run(init)\n",
    "    saver.restore(sess,\"Models/MNIST_numbers.ckpt\")\n",
    "    for i in range(epochs):\n",
    "        \n",
    "        data, label = mnist.train.next_batch(batches)\n",
    "        data = data.reshape(batches, 28, 28, 1)\n",
    "        \n",
    "        feed = {X: data, Y: label}\n",
    "        sess.run(trainer, feed_dict = feed)\n",
    "    \n",
    "    saver.save(sess,\"Models/MNIST_numbers.ckpt\")\n",
    "    \n",
    "    x_train = np.reshape(mnist.test.images, (-1, 28, 28, 1))  # tf.layers.conv2d takes 4D input\n",
    "    \n",
    "    acc = sess.run(accuracy,feed_dict={X: x_train, Y: mnist.test.labels})\n",
    "    \n",
    "    print(\"acc: \"+ str(acc))\n",
    "    sess.close()"
   ]
  },
  {
   "cell_type": "code",
   "execution_count": null,
   "metadata": {},
   "outputs": [],
   "source": []
  },
  {
   "cell_type": "code",
   "execution_count": null,
   "metadata": {},
   "outputs": [],
   "source": []
  }
 ],
 "metadata": {
  "kernelspec": {
   "display_name": "Python 3",
   "language": "python",
   "name": "python3"
  },
  "language_info": {
   "codemirror_mode": {
    "name": "ipython",
    "version": 3
   },
   "file_extension": ".py",
   "mimetype": "text/x-python",
   "name": "python",
   "nbconvert_exporter": "python",
   "pygments_lexer": "ipython3",
   "version": "3.6.9"
  }
 },
 "nbformat": 4,
 "nbformat_minor": 2
}
