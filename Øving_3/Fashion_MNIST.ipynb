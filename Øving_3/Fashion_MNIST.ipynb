{
 "cells": [
  {
   "cell_type": "code",
<<<<<<< HEAD
   "execution_count": 1,
   "metadata": {},
   "outputs": [
    {
     "name": "stderr",
     "output_type": "stream",
     "text": [
      "Using TensorFlow backend.\n"
     ]
    }
   ],
=======
   "execution_count": 235,
   "metadata": {},
   "outputs": [],
>>>>>>> b9c2876015be18998871cc26b0c176abf722968a
   "source": [
    "import tensorflow as tf\n",
    "import numpy as np\n",
    "from tensorflow.examples.tutorials.mnist import input_data\n",
    "import matplotlib.pyplot as plt\n",
    "import keras \n",
    "\n",
    "from sklearn.model_selection import train_test_split\n",
    "from keras.models import Sequential\n",
    "from keras.layers import Dense, Conv2D, Flatten,MaxPooling2D, Flatten,Dropout"
   ]
  },
  {
   "cell_type": "code",
   "execution_count": 236,
   "metadata": {},
   "outputs": [],
   "source": [
    "(x_train, y_train), (x_test, y_test) = tf.keras.datasets.fashion_mnist.load_data()"
   ]
  },
  {
   "cell_type": "code",
   "execution_count": 237,
   "metadata": {},
   "outputs": [],
   "source": [
    "#x_train, x_validate, y_train, y_validate = train_test_split(\n",
    "#    x_train, y_train, test_size=0.2\n",
    "#)"
   ]
  },
  {
   "cell_type": "code",
   "execution_count": 238,
   "metadata": {},
   "outputs": [
    {
     "name": "stdout",
     "output_type": "stream",
     "text": [
      "(10000, 10)\n"
     ]
    }
   ],
   "source": [
    "epochs =100\n",
    "batches = 2_000\n",
    "shape = (28,28,1)\n",
    "y_train = keras.utils.to_categorical(y_train, 10)\n",
    "y_test = keras.utils.to_categorical(y_test,10)\n",
    "#y_validate = keras.utils.to_categorical(y_validate,10)\n",
    "#print(y_validate.shape)\n",
    "print(y_test.shape)\n",
    "x_train = x_train.reshape(60_000, 28, 28, 1)\n",
    "x_test = x_test.reshape(10_000, 28, 28, 1)\n",
    "#x_validate = x_validate.reshape(12_000,28,28,1)"
   ]
  },
  {
   "cell_type": "code",
   "execution_count": 239,
   "metadata": {},
   "outputs": [
    {
     "data": {
      "image/png": "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\n",
      "text/plain": [
       "<Figure size 432x288 with 1 Axes>"
      ]
     },
     "metadata": {
      "needs_background": "light"
     },
     "output_type": "display_data"
    }
   ],
   "source": [
    "image = x_train[1, :].reshape((28, 28))\n",
    "\n",
    "plt.imshow(image)\n",
    "plt.show()"
   ]
  },
  {
   "cell_type": "code",
   "execution_count": 240,
   "metadata": {},
   "outputs": [],
   "source": [
    "# our 3 models \n",
    "\n",
    "\n",
    "name = 'model 1'\n",
    "cnn_model_1 = Sequential([\n",
    "    Conv2D(32, kernel_size=3, activation='relu', input_shape=(28,28,1), name='Conv2D-1'),\n",
    "    MaxPooling2D(pool_size=2, name='MaxPool'),\n",
    "    Dropout(0.2, name='Dropout'),\n",
    "    Flatten(name='flatten'),\n",
    "    Dense(32, activation='relu', name='Dense'),\n",
    "    Dense(10, activation='softmax', name='Output')\n",
    "], name=name)\n",
    "\n",
    "\n",
    "name = 'model 2'\n",
    "cnn_model_2 = Sequential([\n",
    "    Conv2D(32, kernel_size=3, activation='relu', input_shape=(28,28,1), name='Conv2D-1'),\n",
    "    MaxPooling2D(pool_size=2, name='MaxPool'),\n",
    "    Dropout(0.2, name='Dropout'),\n",
    "    Flatten(name='flatten'),\n",
    "    Dense(64, activation='relu', name='Dense'),\n",
    "    Dense(10, activation='softmax', name='Output')\n",
    "], name=name)\n",
    "\n",
    "name = 'model 3'\n",
    "cnn_model_3 = Sequential([\n",
    "    Conv2D(64, kernel_size=3, activation='relu', input_shape=(28,28,1), name='Conv2D-1'),\n",
    "    MaxPooling2D(pool_size=2, name='MaxPool_1'),\n",
    "    \n",
    "    Conv2D(128, kernel_size=2, activation='relu', name='Conv2D-2'),\n",
    "    MaxPooling2D(pool_size=(2,2), name='MaxPool_2'),\n",
    "    Conv2D(256, kernel_size=2, activation='relu', name='Conv2D-3'),\n",
    "    MaxPooling2D(pool_size=(2,2), name='MaxPool_3'),\n",
    "    Dropout(0.2, name='Dropout'),\n",
    "    Flatten(name='flatten'),\n",
    "    Dense(64, activation='relu', name='Dense'),\n",
    "    Dense(10, activation='softmax', name='Output')\n",
    "], name=name)\n",
    "\n",
    "cnn_models = [cnn_model_1,cnn_model_2,cnn_model_3]\n"
   ]
  },
  {
   "cell_type": "code",
   "execution_count": 241,
   "metadata": {},
   "outputs": [
    {
     "name": "stdout",
     "output_type": "stream",
     "text": [
      "Model: \"model 1\"\n",
      "_________________________________________________________________\n",
      "Layer (type)                 Output Shape              Param #   \n",
      "=================================================================\n",
      "Conv2D-1 (Conv2D)            (None, 26, 26, 32)        320       \n",
      "_________________________________________________________________\n",
      "MaxPool (MaxPooling2D)       (None, 13, 13, 32)        0         \n",
      "_________________________________________________________________\n",
      "Dropout (Dropout)            (None, 13, 13, 32)        0         \n",
      "_________________________________________________________________\n",
      "flatten (Flatten)            (None, 5408)              0         \n",
      "_________________________________________________________________\n",
      "Dense (Dense)                (None, 32)                173088    \n",
      "_________________________________________________________________\n",
      "Output (Dense)               (None, 10)                330       \n",
      "=================================================================\n",
      "Total params: 173,738\n",
      "Trainable params: 173,738\n",
      "Non-trainable params: 0\n",
      "_________________________________________________________________\n",
      "Model: \"model 2\"\n",
      "_________________________________________________________________\n",
      "Layer (type)                 Output Shape              Param #   \n",
      "=================================================================\n",
      "Conv2D-1 (Conv2D)            (None, 26, 26, 32)        320       \n",
      "_________________________________________________________________\n",
      "MaxPool (MaxPooling2D)       (None, 13, 13, 32)        0         \n",
      "_________________________________________________________________\n",
      "Dropout (Dropout)            (None, 13, 13, 32)        0         \n",
      "_________________________________________________________________\n",
      "flatten (Flatten)            (None, 5408)              0         \n",
      "_________________________________________________________________\n",
      "Dense (Dense)                (None, 64)                346176    \n",
      "_________________________________________________________________\n",
      "Output (Dense)               (None, 10)                650       \n",
      "=================================================================\n",
      "Total params: 347,146\n",
      "Trainable params: 347,146\n",
      "Non-trainable params: 0\n",
      "_________________________________________________________________\n",
      "Model: \"model 3\"\n",
      "_________________________________________________________________\n",
      "Layer (type)                 Output Shape              Param #   \n",
      "=================================================================\n",
      "Conv2D-1 (Conv2D)            (None, 26, 26, 64)        640       \n",
      "_________________________________________________________________\n",
      "MaxPool_1 (MaxPooling2D)     (None, 13, 13, 64)        0         \n",
      "_________________________________________________________________\n",
      "Conv2D-2 (Conv2D)            (None, 12, 12, 128)       32896     \n",
      "_________________________________________________________________\n",
      "MaxPool_2 (MaxPooling2D)     (None, 6, 6, 128)         0         \n",
      "_________________________________________________________________\n",
      "Conv2D-3 (Conv2D)            (None, 5, 5, 256)         131328    \n",
      "_________________________________________________________________\n",
      "MaxPool_3 (MaxPooling2D)     (None, 2, 2, 256)         0         \n",
      "_________________________________________________________________\n",
      "Dropout (Dropout)            (None, 2, 2, 256)         0         \n",
      "_________________________________________________________________\n",
      "flatten (Flatten)            (None, 1024)              0         \n",
      "_________________________________________________________________\n",
      "Dense (Dense)                (None, 64)                65600     \n",
      "_________________________________________________________________\n",
      "Output (Dense)               (None, 10)                650       \n",
      "=================================================================\n",
      "Total params: 231,114\n",
      "Trainable params: 231,114\n",
      "Non-trainable params: 0\n",
      "_________________________________________________________________\n"
     ]
    }
   ],
   "source": [
    "for model in cnn_models:\n",
    "    model.summary()"
   ]
  },
  {
   "cell_type": "code",
   "execution_count": 242,
   "metadata": {},
   "outputs": [],
   "source": [
    "# train the models and save results to a dict\n",
    "hist = {}\n",
    "for model in cnn_models:\n",
    "    model.compile(\n",
    "        loss='categorical_crossentropy',\n",
    "        optimizer=keras.optimizers.Adam(),\n",
    "        metrics=['accuracy']\n",
    "    )\n",
    "    \n",
    "    his = model.fit(\n",
    "        x_train, y_train,\n",
    "        batch_size=batches,\n",
    "        epochs=epochs,\n",
    "        verbose = 0\n",
    "    )\n",
    "    hist[model.name] = his"
   ]
  },
  {
   "cell_type": "code",
   "execution_count": 243,
   "metadata": {},
   "outputs": [
    {
     "name": "stdout",
     "output_type": "stream",
     "text": [
      "10000/10000 [==============================] - 4s 360us/step\n",
      "10000/10000 [==============================] - 4s 359us/step\n",
      "10000/10000 [==============================] - 4s 387us/step\n"
     ]
    }
   ],
   "source": [
    "loss = []\n",
    "for model in cnn_models:\n",
    "    loss.append((model.evaluate(x=x_test, y=y_test), model.name))"
   ]
  },
  {
   "cell_type": "code",
   "execution_count": 244,
   "metadata": {},
   "outputs": [
    {
     "name": "stdout",
     "output_type": "stream",
     "text": [
      "model 1 has loss at: 14.506285662841798 and a acc : 0.1\n",
      "\n",
      "model 2 has loss at: 0.5607812419325113 and a acc : 0.8905\n",
      "\n",
      "model 3 has loss at: 0.45776161651909353 and a acc : 0.9042\n",
      "\n"
     ]
    }
   ],
   "source": [
    "for (values,name) in loss:\n",
    "    print(name+ \" has loss at: \" +str(values[0])+ \" and a acc : \" + str(values[1]))\n",
    "    print()"
   ]
  },
  {
   "cell_type": "code",
   "execution_count": 245,
   "metadata": {},
   "outputs": [
    {
     "data": {
      "image/png": "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\n",
      "text/plain": [
       "<Figure size 576x432 with 2 Axes>"
      ]
     },
     "metadata": {
      "needs_background": "light"
     },
     "output_type": "display_data"
    }
   ],
   "source": [
    "fig, (ax1, ax2) = plt.subplots(2, figsize=(8, 6))\n",
    "\n",
    "for history in hist:\n",
    "    val_acc = hist[history].history['acc']\n",
    "    val_loss = hist[history].history['loss']\n",
    "    ax1.plot(val_acc, label=his)\n",
    "    ax2.plot(val_loss, label=his)\n",
    "    \n",
    "ax1.set_ylabel('accuracy')\n",
    "ax2.set_ylabel('loss')\n",
    "ax2.set_xlabel('epochs')\n",
    "ax1.legend()\n",
    "ax2.legend()\n",
    "plt.show()"
   ]
  },
  {
   "cell_type": "code",
   "execution_count": null,
   "metadata": {},
   "outputs": [],
   "source": []
  },
  {
   "cell_type": "code",
   "execution_count": null,
   "metadata": {},
   "outputs": [],
   "source": []
  }
 ],
 "metadata": {
  "kernelspec": {
   "display_name": "Python 2",
   "language": "python",
   "name": "python2"
  },
  "language_info": {
   "codemirror_mode": {
    "name": "ipython",
    "version": 2
   },
   "file_extension": ".py",
   "mimetype": "text/x-python",
   "name": "python",
   "nbconvert_exporter": "python",
   "pygments_lexer": "ipython2",
   "version": "2.7.16"
  }
 },
 "nbformat": 4,
 "nbformat_minor": 2
}
