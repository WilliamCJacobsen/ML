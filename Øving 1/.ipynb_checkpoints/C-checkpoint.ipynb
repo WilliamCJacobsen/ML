{
 "cells": [
  {
   "cell_type": "markdown",
   "metadata": {},
   "source": [
    "# Non-linear\n",
    "## f (x) = 20σ(xW + b) + 31"
   ]
  },
  {
   "cell_type": "code",
   "execution_count": 1,
   "metadata": {},
   "outputs": [],
   "source": [
    "import tensorflow as tf\n",
    "import numpy as np\n",
    "import pandas as pd\n",
    "import math\n",
    "import matplotlib.pyplot as plt\n",
    "%matplotlib inline"
   ]
  },
  {
   "cell_type": "code",
   "execution_count": 2,
   "metadata": {},
   "outputs": [
    {
     "data": {
      "text/html": [
       "<div>\n",
       "<style scoped>\n",
       "    .dataframe tbody tr th:only-of-type {\n",
       "        vertical-align: middle;\n",
       "    }\n",
       "\n",
       "    .dataframe tbody tr th {\n",
       "        vertical-align: top;\n",
       "    }\n",
       "\n",
       "    .dataframe thead th {\n",
       "        text-align: right;\n",
       "    }\n",
       "</style>\n",
       "<table border=\"1\" class=\"dataframe\">\n",
       "  <thead>\n",
       "    <tr style=\"text-align: right;\">\n",
       "      <th></th>\n",
       "      <th># day</th>\n",
       "      <th>head circumference</th>\n",
       "    </tr>\n",
       "  </thead>\n",
       "  <tbody>\n",
       "    <tr>\n",
       "      <th>0</th>\n",
       "      <td>889.0</td>\n",
       "      <td>49.989886</td>\n",
       "    </tr>\n",
       "    <tr>\n",
       "      <th>1</th>\n",
       "      <td>209.0</td>\n",
       "      <td>42.739745</td>\n",
       "    </tr>\n",
       "    <tr>\n",
       "      <th>2</th>\n",
       "      <td>1838.0</td>\n",
       "      <td>50.931722</td>\n",
       "    </tr>\n",
       "    <tr>\n",
       "      <th>3</th>\n",
       "      <td>788.0</td>\n",
       "      <td>50.134411</td>\n",
       "    </tr>\n",
       "    <tr>\n",
       "      <th>4</th>\n",
       "      <td>532.0</td>\n",
       "      <td>48.670987</td>\n",
       "    </tr>\n",
       "  </tbody>\n",
       "</table>\n",
       "</div>"
      ],
      "text/plain": [
       "    # day  head circumference\n",
       "0   889.0           49.989886\n",
       "1   209.0           42.739745\n",
       "2  1838.0           50.931722\n",
       "3   788.0           50.134411\n",
       "4   532.0           48.670987"
      ]
     },
     "execution_count": 2,
     "metadata": {},
     "output_type": "execute_result"
    }
   ],
   "source": [
    "data = pd.read_csv(\"Data/day_head.csv\")\n",
    "data.head()"
   ]
  },
  {
   "cell_type": "code",
   "execution_count": 11,
   "metadata": {},
   "outputs": [
    {
     "data": {
      "text/plain": [
       "0    49.989886\n",
       "1    42.739745\n",
       "2    50.931722\n",
       "3    50.134411\n",
       "4    48.670987\n",
       "Name: head circumference, dtype: float64"
      ]
     },
     "execution_count": 11,
     "metadata": {},
     "output_type": "execute_result"
    }
   ],
   "source": [
    "x_data = data['# day']\n",
    "y_data = data['head circumference']"
   ]
  },
  {
   "cell_type": "code",
   "execution_count": 12,
   "metadata": {},
   "outputs": [],
   "source": [
    "twenty = tf.constant(value = 20, dtype = tf.float32)\n",
    "thrty_one = tf.constant(value = 31, dtype = tf.float32)"
   ]
  },
  {
   "cell_type": "code",
   "execution_count": 13,
   "metadata": {},
   "outputs": [],
   "source": [
    "x = tf.placeholder(dtype=tf.float32)\n",
    "y = tf.placeholder(dtype=tf.float32)\n",
    "\n",
    "# Velger å ta random i variable init grunnet at GDO kan finne et lokalt minima, men jeg vil ha global minima\n",
    "W = tf.Variable(0.0, dtype=tf.float32)\n",
    "b = tf.Variable(0.0, dtype=tf.float32)"
   ]
  },
  {
   "cell_type": "code",
   "execution_count": 14,
   "metadata": {},
   "outputs": [],
   "source": [
    "inside = tf.add(tf.multiply(x,W), b)\n",
    "sig = tf.math.sigmoid(inside)\n",
    "\n",
    "y_predicted = tf.add(tf.multiply(twenty, sig),thrty_one)\n"
   ]
  },
  {
   "cell_type": "code",
   "execution_count": 62,
   "metadata": {},
   "outputs": [],
   "source": [
    "loss = tf.losses.mean_squared_error(labels= y_data, predictions = y_predicted)\n",
    "\n",
    "optimizer = tf.train.GradientDescentOptimizer(learning_rate = 0.000000001)\n",
    "trainer = optimizer.minimize(loss)\n",
    "init=  tf.global_variables_initializer()\n",
    "\n",
    "saver = tf.train.Saver()"
   ]
  },
  {
   "cell_type": "code",
   "execution_count": 63,
   "metadata": {},
   "outputs": [],
   "source": [
    "with tf.Session() as sess:\n",
    "    sess.run(init)\n",
    "    saver.restore(sess, \"models/day_head.ckpt\")\n",
    "    \n",
    "    epochs = 100_000\n",
    "    \n",
    "    for i in range(epochs):\n",
    "        rand_ind = np.random.randint(0,len(x_data))\n",
    "        feed = {x: x_data[rand_ind], y: y_data[rand_ind]}\n",
    "        \n",
    "        sess.run(trainer, feed_dict=feed)\n",
    "        \n",
    "    model_W, model_b, loss_value = sess.run([W, b, loss], {x: x_data, y: y_data})\n",
    "    saver.save(sess, \"models/day_head.ckpt\")"
   ]
  },
  {
   "cell_type": "code",
   "execution_count": 64,
   "metadata": {},
   "outputs": [],
   "source": [
    "def sigmoid(x):\n",
    "  return 1 / (1 + math.exp(-x))"
   ]
  },
  {
   "cell_type": "code",
   "execution_count": 65,
   "metadata": {},
   "outputs": [
    {
     "data": {
      "image/png": "[encoded data removed]",
      "text/plain": [
       "<Figure size 432x288 with 1 Axes>"
      ]
     },
     "metadata": {
      "needs_background": "light"
     },
     "output_type": "display_data"
    },
    {
     "name": "stdout",
     "output_type": "stream",
     "text": [
      "m = 0.0024603005, b = 0.0009055148, loss = 2.701671\n"
     ]
    }
   ],
   "source": [
    "y_hat = []\n",
    "\n",
    "for x_value in x_data:\n",
    "    y_hat.append(20*sigmoid(x_value*model_W)+31)\n",
    "plt.plot(x_data,y_data, '*')\n",
    "plt.plot(x_data, y_hat, '*')\n",
    "plt.show()\n",
    "print(\"m = %s, b = %s, loss = %s\" % (model_W, model_b, loss_value))"
   ]
  },
  {
   "cell_type": "code",
   "execution_count": null,
   "metadata": {},
   "outputs": [],
   "source": []
  },
  {
   "cell_type": "code",
   "execution_count": null,
   "metadata": {},
   "outputs": [],
   "source": []
  }
 ],
 "metadata": {
  "kernelspec": {
   "display_name": "Python 3",
   "language": "python",
   "name": "python3"
  },
  "language_info": {
   "codemirror_mode": {
    "name": "ipython",
    "version": 3
   },
   "file_extension": ".py",
   "mimetype": "text/x-python",
   "name": "python",
   "nbconvert_exporter": "python",
   "pygments_lexer": "ipython3",
   "version": "3.6.9"
  }
 },
 "nbformat": 4,
 "nbformat_minor": 2
}
